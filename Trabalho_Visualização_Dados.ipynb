{
 "cells": [
  {
   "cell_type": "markdown",
   "metadata": {},
   "source": [
    "oq entendi kkk\n",
    "TRABALHO DE VISUALIZAÇÃO DE DADOS\n",
    "\n",
    ". APRESENTAÇÃO DA EQUIPE\n",
    "\n",
    ". APRESENTAÇÃO DO DATASET UITILIZADO\n",
    "\n",
    ". DESCREVENDO O PROBLEMA Ex.: O Rank dos 10 melhores países por produto\n",
    "\t\n",
    ". DESCREVENDO A SOLUÇÃO\t\n",
    "\t- Comparação\n",
    "\t- Relacionamento \n",
    "\t- Distribuição \n",
    "\t- Composição\n",
    "\t\n",
    "\tImplementar todos os gráficos ensinados na aula, porém apresentar apenas o que melhor se encaixa na solução.\n",
    "qualquer coisa não fui eu!"
   ]
  },
  {
   "cell_type": "code",
   "execution_count": 26,
   "metadata": {},
   "outputs": [],
   "source": [
    "import pandas as pd\n",
    "import matplotlib.pyplot as plt\n",
    "import numpy as np\n",
    "import os\n",
    "from os import listdir\n",
    "from os.path import isfile, join"
   ]
  },
  {
   "cell_type": "code",
   "execution_count": 27,
   "metadata": {},
   "outputs": [
    {
     "data": {
      "text/plain": [
       "['.gitattributes',\n",
       " 'datatran2007.csv',\n",
       " 'datatran2008.csv',\n",
       " 'datatran2009.csv',\n",
       " 'datatran2010.csv',\n",
       " 'datatran2011.csv',\n",
       " 'datatran2012.csv',\n",
       " 'datatran2013.csv',\n",
       " 'datatran2014.csv',\n",
       " 'datatran2015.csv',\n",
       " 'datatran2016_atual.csv',\n",
       " 'datatran2017.csv',\n",
       " 'datatran2018.csv',\n",
       " 'datatran2019.csv',\n",
       " 'datatran2020.csv',\n",
       " 'LICENSE',\n",
       " 'README.md',\n",
       " 'Trabalho_Visualização_Dados.ipynb']"
      ]
     },
     "execution_count": 27,
     "metadata": {},
     "output_type": "execute_result"
    }
   ],
   "source": [
    "files = [f for f in listdir(os.getcwd()) if isfile(join(os.getcwd(), f))]\n",
    "files"
   ]
  },
  {
   "cell_type": "markdown",
   "metadata": {},
   "source": [
    "### 2007"
   ]
  },
  {
   "cell_type": "code",
   "execution_count": 42,
   "metadata": {},
   "outputs": [],
   "source": [
    "df_2007 = pd.read_csv(\"datatran2007.csv\", sep=';', low_memory=False)"
   ]
  },
  {
   "cell_type": "code",
   "execution_count": 44,
   "metadata": {},
   "outputs": [],
   "source": [
    "df_2007 = df_2007[df_2007['municipio'] == 'MANAUS'].copy()"
   ]
  },
  {
   "cell_type": "code",
   "execution_count": 45,
   "metadata": {},
   "outputs": [],
   "source": [
    "df_2007.drop(['id','uso_solo','sentido_via','tipo_pista','tracado_via','ano','ignorados','horario','pessoas','veiculos','feridos_leves','feridos_graves','classificacao_acidente','municipio','uf'], axis=1, inplace=True)"
   ]
  },
  {
   "cell_type": "code",
   "execution_count": 70,
   "metadata": {
    "scrolled": true
   },
   "outputs": [
    {
     "data": {
      "text/html": [
       "<div>\n",
       "<style scoped>\n",
       "    .dataframe tbody tr th:only-of-type {\n",
       "        vertical-align: middle;\n",
       "    }\n",
       "\n",
       "    .dataframe tbody tr th {\n",
       "        vertical-align: top;\n",
       "    }\n",
       "\n",
       "    .dataframe thead th {\n",
       "        text-align: right;\n",
       "    }\n",
       "</style>\n",
       "<table border=\"1\" class=\"dataframe\">\n",
       "  <thead>\n",
       "    <tr style=\"text-align: right;\">\n",
       "      <th></th>\n",
       "      <th>data_inversa</th>\n",
       "      <th>dia_semana</th>\n",
       "      <th>br</th>\n",
       "      <th>km</th>\n",
       "      <th>causa_acidente</th>\n",
       "      <th>tipo_acidente</th>\n",
       "      <th>fase_dia</th>\n",
       "      <th>condicao_metereologica</th>\n",
       "      <th>mortos</th>\n",
       "      <th>ilesos</th>\n",
       "      <th>feridos</th>\n",
       "    </tr>\n",
       "  </thead>\n",
       "  <tbody>\n",
       "    <tr>\n",
       "      <th>1112</th>\n",
       "      <td>02/01/2007</td>\n",
       "      <td>Terça</td>\n",
       "      <td>174</td>\n",
       "      <td>9.3</td>\n",
       "      <td>Falta de atenção</td>\n",
       "      <td>Saída de Pista</td>\n",
       "      <td>Pleno dia</td>\n",
       "      <td>Chuva</td>\n",
       "      <td>0</td>\n",
       "      <td>0</td>\n",
       "      <td>1</td>\n",
       "    </tr>\n",
       "    <tr>\n",
       "      <th>1145</th>\n",
       "      <td>02/01/2007</td>\n",
       "      <td>Terça</td>\n",
       "      <td>174</td>\n",
       "      <td>7.9</td>\n",
       "      <td>Outras</td>\n",
       "      <td>Colisão traseira</td>\n",
       "      <td>Anoitecer</td>\n",
       "      <td>Chuva</td>\n",
       "      <td>0</td>\n",
       "      <td>4</td>\n",
       "      <td>0</td>\n",
       "    </tr>\n",
       "    <tr>\n",
       "      <th>1964</th>\n",
       "      <td>07/01/2007</td>\n",
       "      <td>Domingo</td>\n",
       "      <td>174</td>\n",
       "      <td>52.1</td>\n",
       "      <td>Defeito na via</td>\n",
       "      <td>Capotamento</td>\n",
       "      <td>Pleno dia</td>\n",
       "      <td>Sol</td>\n",
       "      <td>0</td>\n",
       "      <td>0</td>\n",
       "      <td>2</td>\n",
       "    </tr>\n",
       "    <tr>\n",
       "      <th>2931</th>\n",
       "      <td>11/01/2007</td>\n",
       "      <td>Quinta</td>\n",
       "      <td>174</td>\n",
       "      <td>85.8</td>\n",
       "      <td>Outras</td>\n",
       "      <td>Incêndio</td>\n",
       "      <td>Anoitecer</td>\n",
       "      <td>Nevoeiro/neblina</td>\n",
       "      <td>0</td>\n",
       "      <td>1</td>\n",
       "      <td>0</td>\n",
       "    </tr>\n",
       "    <tr>\n",
       "      <th>5475</th>\n",
       "      <td>19/01/2007</td>\n",
       "      <td>Sexta</td>\n",
       "      <td>174</td>\n",
       "      <td>3.3</td>\n",
       "      <td>Falta de atenção</td>\n",
       "      <td>Colisão lateral</td>\n",
       "      <td>Pleno dia</td>\n",
       "      <td>Ceu Claro</td>\n",
       "      <td>0</td>\n",
       "      <td>2</td>\n",
       "      <td>0</td>\n",
       "    </tr>\n",
       "  </tbody>\n",
       "</table>\n",
       "</div>"
      ],
      "text/plain": [
       "     data_inversa dia_semana   br    km    causa_acidente     tipo_acidente  \\\n",
       "1112   02/01/2007      Terça  174   9.3  Falta de atenção    Saída de Pista   \n",
       "1145   02/01/2007      Terça  174   7.9            Outras  Colisão traseira   \n",
       "1964   07/01/2007    Domingo  174  52.1    Defeito na via       Capotamento   \n",
       "2931   11/01/2007     Quinta  174  85.8            Outras          Incêndio   \n",
       "5475   19/01/2007      Sexta  174   3.3  Falta de atenção   Colisão lateral   \n",
       "\n",
       "       fase_dia condicao_metereologica  mortos  ilesos  feridos  \n",
       "1112  Pleno dia                  Chuva       0       0        1  \n",
       "1145  Anoitecer                  Chuva       0       4        0  \n",
       "1964  Pleno dia                    Sol       0       0        2  \n",
       "2931  Anoitecer       Nevoeiro/neblina       0       1        0  \n",
       "5475  Pleno dia              Ceu Claro       0       2        0  "
      ]
     },
     "execution_count": 70,
     "metadata": {},
     "output_type": "execute_result"
    }
   ],
   "source": [
    "df_2007.head()"
   ]
  },
  {
   "cell_type": "markdown",
   "metadata": {},
   "source": [
    "### 2008"
   ]
  },
  {
   "cell_type": "code",
   "execution_count": 49,
   "metadata": {},
   "outputs": [],
   "source": [
    "df_2008 = pd.read_csv(\"datatran2008.csv\", sep=';', low_memory=False)"
   ]
  },
  {
   "cell_type": "code",
   "execution_count": 51,
   "metadata": {},
   "outputs": [],
   "source": [
    "df_2008 = df_2008[df_2008['municipio'] == 'MANAUS'].copy()"
   ]
  },
  {
   "cell_type": "code",
   "execution_count": 53,
   "metadata": {},
   "outputs": [],
   "source": [
    "df_2008.drop(['id','uso_solo','sentido_via','tipo_pista','tracado_via','ano','ignorados','horario','pessoas','veiculos','feridos_leves','feridos_graves','classificacao_acidente','municipio','uf'], axis=1, inplace=True)"
   ]
  },
  {
   "cell_type": "code",
   "execution_count": 68,
   "metadata": {
    "scrolled": true
   },
   "outputs": [
    {
     "data": {
      "text/html": [
       "<div>\n",
       "<style scoped>\n",
       "    .dataframe tbody tr th:only-of-type {\n",
       "        vertical-align: middle;\n",
       "    }\n",
       "\n",
       "    .dataframe tbody tr th {\n",
       "        vertical-align: top;\n",
       "    }\n",
       "\n",
       "    .dataframe thead th {\n",
       "        text-align: right;\n",
       "    }\n",
       "</style>\n",
       "<table border=\"1\" class=\"dataframe\">\n",
       "  <thead>\n",
       "    <tr style=\"text-align: right;\">\n",
       "      <th></th>\n",
       "      <th>data_inversa</th>\n",
       "      <th>dia_semana</th>\n",
       "      <th>br</th>\n",
       "      <th>km</th>\n",
       "      <th>causa_acidente</th>\n",
       "      <th>tipo_acidente</th>\n",
       "      <th>fase_dia</th>\n",
       "      <th>condicao_metereologica</th>\n",
       "      <th>mortos</th>\n",
       "      <th>ilesos</th>\n",
       "      <th>feridos</th>\n",
       "    </tr>\n",
       "  </thead>\n",
       "  <tbody>\n",
       "    <tr>\n",
       "      <th>1213</th>\n",
       "      <td>05/01/2008</td>\n",
       "      <td>Sábado</td>\n",
       "      <td>174</td>\n",
       "      <td>50</td>\n",
       "      <td>Outras</td>\n",
       "      <td>Saída de Pista</td>\n",
       "      <td>Pleno dia</td>\n",
       "      <td>Chuva</td>\n",
       "      <td>0</td>\n",
       "      <td>1</td>\n",
       "      <td>0</td>\n",
       "    </tr>\n",
       "    <tr>\n",
       "      <th>4667</th>\n",
       "      <td>11/01/2008</td>\n",
       "      <td>Sexta</td>\n",
       "      <td>174</td>\n",
       "      <td>28</td>\n",
       "      <td>Outras</td>\n",
       "      <td>Saída de Pista</td>\n",
       "      <td>Pleno dia</td>\n",
       "      <td>Nublado</td>\n",
       "      <td>0</td>\n",
       "      <td>2</td>\n",
       "      <td>0</td>\n",
       "    </tr>\n",
       "    <tr>\n",
       "      <th>5954</th>\n",
       "      <td>18/01/2008</td>\n",
       "      <td>Sexta</td>\n",
       "      <td>174</td>\n",
       "      <td>61</td>\n",
       "      <td>Falta de atenção</td>\n",
       "      <td>Saída de Pista</td>\n",
       "      <td>Pleno dia</td>\n",
       "      <td>Chuva</td>\n",
       "      <td>0</td>\n",
       "      <td>1</td>\n",
       "      <td>1</td>\n",
       "    </tr>\n",
       "    <tr>\n",
       "      <th>7432</th>\n",
       "      <td>20/01/2008</td>\n",
       "      <td>Domingo</td>\n",
       "      <td>174</td>\n",
       "      <td>30</td>\n",
       "      <td>Outras</td>\n",
       "      <td>Atropelamento de pessoa</td>\n",
       "      <td>Plena noite</td>\n",
       "      <td>Ceu Claro</td>\n",
       "      <td>0</td>\n",
       "      <td>1</td>\n",
       "      <td>1</td>\n",
       "    </tr>\n",
       "    <tr>\n",
       "      <th>8295</th>\n",
       "      <td>24/01/2008</td>\n",
       "      <td>Quinta</td>\n",
       "      <td>174</td>\n",
       "      <td>78</td>\n",
       "      <td>Velocidade incompatível</td>\n",
       "      <td>Colisão traseira</td>\n",
       "      <td>Pleno dia</td>\n",
       "      <td>Ceu Claro</td>\n",
       "      <td>0</td>\n",
       "      <td>3</td>\n",
       "      <td>0</td>\n",
       "    </tr>\n",
       "  </tbody>\n",
       "</table>\n",
       "</div>"
      ],
      "text/plain": [
       "     data_inversa dia_semana   br  km           causa_acidente  \\\n",
       "1213   05/01/2008     Sábado  174  50                   Outras   \n",
       "4667   11/01/2008      Sexta  174  28                   Outras   \n",
       "5954   18/01/2008      Sexta  174  61         Falta de atenção   \n",
       "7432   20/01/2008    Domingo  174  30                   Outras   \n",
       "8295   24/01/2008     Quinta  174  78  Velocidade incompatível   \n",
       "\n",
       "                tipo_acidente     fase_dia condicao_metereologica  mortos  \\\n",
       "1213           Saída de Pista    Pleno dia                  Chuva       0   \n",
       "4667           Saída de Pista    Pleno dia                Nublado       0   \n",
       "5954           Saída de Pista    Pleno dia                  Chuva       0   \n",
       "7432  Atropelamento de pessoa  Plena noite              Ceu Claro       0   \n",
       "8295         Colisão traseira    Pleno dia              Ceu Claro       0   \n",
       "\n",
       "      ilesos  feridos  \n",
       "1213       1        0  \n",
       "4667       2        0  \n",
       "5954       1        1  \n",
       "7432       1        1  \n",
       "8295       3        0  "
      ]
     },
     "execution_count": 68,
     "metadata": {},
     "output_type": "execute_result"
    }
   ],
   "source": [
    "df_2008.head()"
   ]
  },
  {
   "cell_type": "markdown",
   "metadata": {},
   "source": [
    "### 2009"
   ]
  },
  {
   "cell_type": "code",
   "execution_count": 61,
   "metadata": {},
   "outputs": [],
   "source": [
    "df_2009 = pd.read_csv(\"datatran2009.csv\", sep=';', low_memory=False)"
   ]
  },
  {
   "cell_type": "code",
   "execution_count": 62,
   "metadata": {},
   "outputs": [],
   "source": [
    "df_2009 = df_2009[df_2009['municipio'] == 'MANAUS'].copy()"
   ]
  },
  {
   "cell_type": "code",
   "execution_count": 63,
   "metadata": {},
   "outputs": [],
   "source": [
    "df_2009.drop(['id','uso_solo','sentido_via','tipo_pista','tracado_via','ano','ignorados','horario','pessoas','veiculos','feridos_leves','feridos_graves','classificacao_acidente','municipio','uf'], axis=1, inplace=True)"
   ]
  },
  {
   "cell_type": "code",
   "execution_count": 69,
   "metadata": {
    "scrolled": true
   },
   "outputs": [
    {
     "data": {
      "text/html": [
       "<div>\n",
       "<style scoped>\n",
       "    .dataframe tbody tr th:only-of-type {\n",
       "        vertical-align: middle;\n",
       "    }\n",
       "\n",
       "    .dataframe tbody tr th {\n",
       "        vertical-align: top;\n",
       "    }\n",
       "\n",
       "    .dataframe thead th {\n",
       "        text-align: right;\n",
       "    }\n",
       "</style>\n",
       "<table border=\"1\" class=\"dataframe\">\n",
       "  <thead>\n",
       "    <tr style=\"text-align: right;\">\n",
       "      <th></th>\n",
       "      <th>data_inversa</th>\n",
       "      <th>dia_semana</th>\n",
       "      <th>br</th>\n",
       "      <th>km</th>\n",
       "      <th>causa_acidente</th>\n",
       "      <th>tipo_acidente</th>\n",
       "      <th>fase_dia</th>\n",
       "      <th>condicao_metereologica</th>\n",
       "      <th>mortos</th>\n",
       "      <th>ilesos</th>\n",
       "      <th>feridos</th>\n",
       "    </tr>\n",
       "  </thead>\n",
       "  <tbody>\n",
       "    <tr>\n",
       "      <th>375</th>\n",
       "      <td>02/01/2009</td>\n",
       "      <td>Sexta</td>\n",
       "      <td>174</td>\n",
       "      <td>47.3</td>\n",
       "      <td>Outras</td>\n",
       "      <td>Saída de Pista</td>\n",
       "      <td>Pleno dia</td>\n",
       "      <td>Ceu Claro</td>\n",
       "      <td>0</td>\n",
       "      <td>4</td>\n",
       "      <td>1</td>\n",
       "    </tr>\n",
       "    <tr>\n",
       "      <th>1340</th>\n",
       "      <td>04/01/2009</td>\n",
       "      <td>Domingo</td>\n",
       "      <td>319</td>\n",
       "      <td>1.0</td>\n",
       "      <td>Outras</td>\n",
       "      <td>Colisão com objeto fixo</td>\n",
       "      <td>Pleno dia</td>\n",
       "      <td>Sol</td>\n",
       "      <td>0</td>\n",
       "      <td>2</td>\n",
       "      <td>0</td>\n",
       "    </tr>\n",
       "    <tr>\n",
       "      <th>1448</th>\n",
       "      <td>04/01/2009</td>\n",
       "      <td>Domingo</td>\n",
       "      <td>174</td>\n",
       "      <td>10.0</td>\n",
       "      <td>Não guardar distância de segurança</td>\n",
       "      <td>Colisão traseira</td>\n",
       "      <td>Pleno dia</td>\n",
       "      <td>Nublado</td>\n",
       "      <td>0</td>\n",
       "      <td>4</td>\n",
       "      <td>0</td>\n",
       "    </tr>\n",
       "    <tr>\n",
       "      <th>2742</th>\n",
       "      <td>05/01/2009</td>\n",
       "      <td>Segunda</td>\n",
       "      <td>174</td>\n",
       "      <td>73.8</td>\n",
       "      <td>Outras</td>\n",
       "      <td>Atropelamento de pessoa</td>\n",
       "      <td>Plena noite</td>\n",
       "      <td>Ceu Claro</td>\n",
       "      <td>1</td>\n",
       "      <td>0</td>\n",
       "      <td>0</td>\n",
       "    </tr>\n",
       "    <tr>\n",
       "      <th>3660</th>\n",
       "      <td>11/01/2009</td>\n",
       "      <td>Domingo</td>\n",
       "      <td>174</td>\n",
       "      <td>123.5</td>\n",
       "      <td>Defeito na via</td>\n",
       "      <td>Saída de Pista</td>\n",
       "      <td>Pleno dia</td>\n",
       "      <td>Ceu Claro</td>\n",
       "      <td>0</td>\n",
       "      <td>1</td>\n",
       "      <td>1</td>\n",
       "    </tr>\n",
       "  </tbody>\n",
       "</table>\n",
       "</div>"
      ],
      "text/plain": [
       "     data_inversa dia_semana   br     km                      causa_acidente  \\\n",
       "375    02/01/2009      Sexta  174   47.3                              Outras   \n",
       "1340   04/01/2009    Domingo  319    1.0                              Outras   \n",
       "1448   04/01/2009    Domingo  174   10.0  Não guardar distância de segurança   \n",
       "2742   05/01/2009    Segunda  174   73.8                              Outras   \n",
       "3660   11/01/2009    Domingo  174  123.5                      Defeito na via   \n",
       "\n",
       "                tipo_acidente     fase_dia condicao_metereologica  mortos  \\\n",
       "375            Saída de Pista    Pleno dia              Ceu Claro       0   \n",
       "1340  Colisão com objeto fixo    Pleno dia                    Sol       0   \n",
       "1448         Colisão traseira    Pleno dia                Nublado       0   \n",
       "2742  Atropelamento de pessoa  Plena noite              Ceu Claro       1   \n",
       "3660           Saída de Pista    Pleno dia              Ceu Claro       0   \n",
       "\n",
       "      ilesos  feridos  \n",
       "375        4        1  \n",
       "1340       2        0  \n",
       "1448       4        0  \n",
       "2742       0        0  \n",
       "3660       1        1  "
      ]
     },
     "execution_count": 69,
     "metadata": {},
     "output_type": "execute_result"
    }
   ],
   "source": [
    "df_2009.head()"
   ]
  },
  {
   "cell_type": "markdown",
   "metadata": {},
   "source": [
    "### 2010"
   ]
  },
  {
   "cell_type": "code",
   "execution_count": 71,
   "metadata": {},
   "outputs": [],
   "source": [
    "df_2010 = pd.read_csv(\"datatran2010.csv\", sep=';', low_memory=False)"
   ]
  },
  {
   "cell_type": "code",
   "execution_count": 72,
   "metadata": {},
   "outputs": [],
   "source": [
    "df_2010 = df_2010[df_2010['municipio'] == 'MANAUS'].copy()"
   ]
  },
  {
   "cell_type": "code",
   "execution_count": 73,
   "metadata": {},
   "outputs": [],
   "source": [
    "df_2010.drop(['id','uso_solo','sentido_via','tipo_pista','tracado_via','ano','ignorados','horario','pessoas','veiculos','feridos_leves','feridos_graves','classificacao_acidente','municipio','uf'], axis=1, inplace=True)"
   ]
  },
  {
   "cell_type": "code",
   "execution_count": 74,
   "metadata": {},
   "outputs": [
    {
     "data": {
      "text/html": [
       "<div>\n",
       "<style scoped>\n",
       "    .dataframe tbody tr th:only-of-type {\n",
       "        vertical-align: middle;\n",
       "    }\n",
       "\n",
       "    .dataframe tbody tr th {\n",
       "        vertical-align: top;\n",
       "    }\n",
       "\n",
       "    .dataframe thead th {\n",
       "        text-align: right;\n",
       "    }\n",
       "</style>\n",
       "<table border=\"1\" class=\"dataframe\">\n",
       "  <thead>\n",
       "    <tr style=\"text-align: right;\">\n",
       "      <th></th>\n",
       "      <th>data_inversa</th>\n",
       "      <th>dia_semana</th>\n",
       "      <th>br</th>\n",
       "      <th>km</th>\n",
       "      <th>causa_acidente</th>\n",
       "      <th>tipo_acidente</th>\n",
       "      <th>fase_dia</th>\n",
       "      <th>condicao_metereologica</th>\n",
       "      <th>mortos</th>\n",
       "      <th>ilesos</th>\n",
       "      <th>feridos</th>\n",
       "    </tr>\n",
       "  </thead>\n",
       "  <tbody>\n",
       "    <tr>\n",
       "      <th>521</th>\n",
       "      <td>02/01/2010</td>\n",
       "      <td>Sábado</td>\n",
       "      <td>174</td>\n",
       "      <td>2.3</td>\n",
       "      <td>Não guardar distância de segurança</td>\n",
       "      <td>Colisão traseira</td>\n",
       "      <td>Pleno dia</td>\n",
       "      <td>Ceu Claro</td>\n",
       "      <td>0</td>\n",
       "      <td>21</td>\n",
       "      <td>0</td>\n",
       "    </tr>\n",
       "    <tr>\n",
       "      <th>564</th>\n",
       "      <td>02/01/2010</td>\n",
       "      <td>Sábado</td>\n",
       "      <td>174</td>\n",
       "      <td>3.0</td>\n",
       "      <td>Falta de atenção</td>\n",
       "      <td>Colisão Transversal</td>\n",
       "      <td>Pleno dia</td>\n",
       "      <td>Ceu Claro</td>\n",
       "      <td>0</td>\n",
       "      <td>8</td>\n",
       "      <td>0</td>\n",
       "    </tr>\n",
       "    <tr>\n",
       "      <th>1597</th>\n",
       "      <td>03/01/2010</td>\n",
       "      <td>Domingo</td>\n",
       "      <td>174</td>\n",
       "      <td>16.2</td>\n",
       "      <td>Dormindo</td>\n",
       "      <td>Saída de Pista</td>\n",
       "      <td>Plena noite</td>\n",
       "      <td>Nublado</td>\n",
       "      <td>0</td>\n",
       "      <td>1</td>\n",
       "      <td>3</td>\n",
       "    </tr>\n",
       "    <tr>\n",
       "      <th>2291</th>\n",
       "      <td>06/01/2010</td>\n",
       "      <td>Quarta</td>\n",
       "      <td>174</td>\n",
       "      <td>83.4</td>\n",
       "      <td>Falta de atenção</td>\n",
       "      <td>Saída de Pista</td>\n",
       "      <td>Plena noite</td>\n",
       "      <td>Ceu Claro</td>\n",
       "      <td>0</td>\n",
       "      <td>2</td>\n",
       "      <td>0</td>\n",
       "    </tr>\n",
       "    <tr>\n",
       "      <th>5703</th>\n",
       "      <td>14/01/2010</td>\n",
       "      <td>Quinta</td>\n",
       "      <td>174</td>\n",
       "      <td>75.0</td>\n",
       "      <td>Outras</td>\n",
       "      <td>Colisão traseira</td>\n",
       "      <td>Anoitecer</td>\n",
       "      <td>Ceu Claro</td>\n",
       "      <td>0</td>\n",
       "      <td>2</td>\n",
       "      <td>0</td>\n",
       "    </tr>\n",
       "  </tbody>\n",
       "</table>\n",
       "</div>"
      ],
      "text/plain": [
       "     data_inversa dia_semana   br    km                      causa_acidente  \\\n",
       "521    02/01/2010     Sábado  174   2.3  Não guardar distância de segurança   \n",
       "564    02/01/2010     Sábado  174   3.0                    Falta de atenção   \n",
       "1597   03/01/2010    Domingo  174  16.2                            Dormindo   \n",
       "2291   06/01/2010     Quarta  174  83.4                    Falta de atenção   \n",
       "5703   14/01/2010     Quinta  174  75.0                              Outras   \n",
       "\n",
       "            tipo_acidente     fase_dia condicao_metereologica  mortos  ilesos  \\\n",
       "521      Colisão traseira    Pleno dia              Ceu Claro       0      21   \n",
       "564   Colisão Transversal    Pleno dia              Ceu Claro       0       8   \n",
       "1597       Saída de Pista  Plena noite                Nublado       0       1   \n",
       "2291       Saída de Pista  Plena noite              Ceu Claro       0       2   \n",
       "5703     Colisão traseira    Anoitecer              Ceu Claro       0       2   \n",
       "\n",
       "      feridos  \n",
       "521         0  \n",
       "564         0  \n",
       "1597        3  \n",
       "2291        0  \n",
       "5703        0  "
      ]
     },
     "execution_count": 74,
     "metadata": {},
     "output_type": "execute_result"
    }
   ],
   "source": [
    "df_2010.head()"
   ]
  },
  {
   "cell_type": "code",
   "execution_count": null,
   "metadata": {},
   "outputs": [],
   "source": []
  },
  {
   "cell_type": "markdown",
   "metadata": {},
   "source": [
    "## Criando o Dataframe Manaus"
   ]
  },
  {
   "cell_type": "code",
   "execution_count": 88,
   "metadata": {},
   "outputs": [],
   "source": [
    "df_manaus = pd.DataFrame()"
   ]
  },
  {
   "cell_type": "code",
   "execution_count": 89,
   "metadata": {},
   "outputs": [],
   "source": [
    "df_manaus = pd.concat([df_2007, df_2008, df_2009,df_2010])"
   ]
  },
  {
   "cell_type": "code",
   "execution_count": 90,
   "metadata": {},
   "outputs": [],
   "source": [
    "df_manaus.reset_index(inplace=True, drop=True)"
   ]
  },
  {
   "cell_type": "code",
   "execution_count": 93,
   "metadata": {},
   "outputs": [
    {
     "data": {
      "text/html": [
       "<div>\n",
       "<style scoped>\n",
       "    .dataframe tbody tr th:only-of-type {\n",
       "        vertical-align: middle;\n",
       "    }\n",
       "\n",
       "    .dataframe tbody tr th {\n",
       "        vertical-align: top;\n",
       "    }\n",
       "\n",
       "    .dataframe thead th {\n",
       "        text-align: right;\n",
       "    }\n",
       "</style>\n",
       "<table border=\"1\" class=\"dataframe\">\n",
       "  <thead>\n",
       "    <tr style=\"text-align: right;\">\n",
       "      <th></th>\n",
       "      <th>data_inversa</th>\n",
       "      <th>dia_semana</th>\n",
       "      <th>br</th>\n",
       "      <th>km</th>\n",
       "      <th>causa_acidente</th>\n",
       "      <th>tipo_acidente</th>\n",
       "      <th>fase_dia</th>\n",
       "      <th>condicao_metereologica</th>\n",
       "      <th>mortos</th>\n",
       "      <th>ilesos</th>\n",
       "      <th>feridos</th>\n",
       "    </tr>\n",
       "  </thead>\n",
       "  <tbody>\n",
       "    <tr>\n",
       "      <th>0</th>\n",
       "      <td>02/01/2007</td>\n",
       "      <td>Terça</td>\n",
       "      <td>174</td>\n",
       "      <td>9.3</td>\n",
       "      <td>Falta de atenção</td>\n",
       "      <td>Saída de Pista</td>\n",
       "      <td>Pleno dia</td>\n",
       "      <td>Chuva</td>\n",
       "      <td>0</td>\n",
       "      <td>0</td>\n",
       "      <td>1</td>\n",
       "    </tr>\n",
       "    <tr>\n",
       "      <th>1</th>\n",
       "      <td>02/01/2007</td>\n",
       "      <td>Terça</td>\n",
       "      <td>174</td>\n",
       "      <td>7.9</td>\n",
       "      <td>Outras</td>\n",
       "      <td>Colisão traseira</td>\n",
       "      <td>Anoitecer</td>\n",
       "      <td>Chuva</td>\n",
       "      <td>0</td>\n",
       "      <td>4</td>\n",
       "      <td>0</td>\n",
       "    </tr>\n",
       "    <tr>\n",
       "      <th>2</th>\n",
       "      <td>07/01/2007</td>\n",
       "      <td>Domingo</td>\n",
       "      <td>174</td>\n",
       "      <td>52.1</td>\n",
       "      <td>Defeito na via</td>\n",
       "      <td>Capotamento</td>\n",
       "      <td>Pleno dia</td>\n",
       "      <td>Sol</td>\n",
       "      <td>0</td>\n",
       "      <td>0</td>\n",
       "      <td>2</td>\n",
       "    </tr>\n",
       "    <tr>\n",
       "      <th>3</th>\n",
       "      <td>11/01/2007</td>\n",
       "      <td>Quinta</td>\n",
       "      <td>174</td>\n",
       "      <td>85.8</td>\n",
       "      <td>Outras</td>\n",
       "      <td>Incêndio</td>\n",
       "      <td>Anoitecer</td>\n",
       "      <td>Nevoeiro/neblina</td>\n",
       "      <td>0</td>\n",
       "      <td>1</td>\n",
       "      <td>0</td>\n",
       "    </tr>\n",
       "    <tr>\n",
       "      <th>4</th>\n",
       "      <td>19/01/2007</td>\n",
       "      <td>Sexta</td>\n",
       "      <td>174</td>\n",
       "      <td>3.3</td>\n",
       "      <td>Falta de atenção</td>\n",
       "      <td>Colisão lateral</td>\n",
       "      <td>Pleno dia</td>\n",
       "      <td>Ceu Claro</td>\n",
       "      <td>0</td>\n",
       "      <td>2</td>\n",
       "      <td>0</td>\n",
       "    </tr>\n",
       "  </tbody>\n",
       "</table>\n",
       "</div>"
      ],
      "text/plain": [
       "  data_inversa dia_semana   br    km    causa_acidente     tipo_acidente  \\\n",
       "0   02/01/2007      Terça  174   9.3  Falta de atenção    Saída de Pista   \n",
       "1   02/01/2007      Terça  174   7.9            Outras  Colisão traseira   \n",
       "2   07/01/2007    Domingo  174  52.1    Defeito na via       Capotamento   \n",
       "3   11/01/2007     Quinta  174  85.8            Outras          Incêndio   \n",
       "4   19/01/2007      Sexta  174   3.3  Falta de atenção   Colisão lateral   \n",
       "\n",
       "    fase_dia condicao_metereologica  mortos  ilesos  feridos  \n",
       "0  Pleno dia                  Chuva       0       0        1  \n",
       "1  Anoitecer                  Chuva       0       4        0  \n",
       "2  Pleno dia                    Sol       0       0        2  \n",
       "3  Anoitecer       Nevoeiro/neblina       0       1        0  \n",
       "4  Pleno dia              Ceu Claro       0       2        0  "
      ]
     },
     "execution_count": 93,
     "metadata": {},
     "output_type": "execute_result"
    }
   ],
   "source": [
    "df_manaus.head()"
   ]
  },
  {
   "cell_type": "code",
   "execution_count": 111,
   "metadata": {},
   "outputs": [
    {
     "data": {
      "text/plain": [
       "<matplotlib.axes._subplots.AxesSubplot at 0x20f85733a90>"
      ]
     },
     "execution_count": 111,
     "metadata": {},
     "output_type": "execute_result"
    },
    {
     "data": {
      "image/png": "[encoded data removed]",
      "text/plain": [
       "<Figure size 1440x720 with 1 Axes>"
      ]
     },
     "metadata": {
      "needs_background": "light"
     },
     "output_type": "display_data"
    }
   ],
   "source": [
    "plt.figure(figsize=(20,10))\n",
    "df_manaus.feridos.plot()"
   ]
  },
  {
   "cell_type": "code",
   "execution_count": 105,
   "metadata": {},
   "outputs": [
    {
     "data": {
      "text/plain": [
       "14"
      ]
     },
     "execution_count": 105,
     "metadata": {},
     "output_type": "execute_result"
    }
   ],
   "source": [
    "df_manaus.feridos.max()"
   ]
  },
  {
   "cell_type": "code",
   "execution_count": 106,
   "metadata": {},
   "outputs": [
    {
     "data": {
      "text/html": [
       "<div>\n",
       "<style scoped>\n",
       "    .dataframe tbody tr th:only-of-type {\n",
       "        vertical-align: middle;\n",
       "    }\n",
       "\n",
       "    .dataframe tbody tr th {\n",
       "        vertical-align: top;\n",
       "    }\n",
       "\n",
       "    .dataframe thead th {\n",
       "        text-align: right;\n",
       "    }\n",
       "</style>\n",
       "<table border=\"1\" class=\"dataframe\">\n",
       "  <thead>\n",
       "    <tr style=\"text-align: right;\">\n",
       "      <th></th>\n",
       "      <th>data_inversa</th>\n",
       "      <th>dia_semana</th>\n",
       "      <th>br</th>\n",
       "      <th>km</th>\n",
       "      <th>causa_acidente</th>\n",
       "      <th>tipo_acidente</th>\n",
       "      <th>fase_dia</th>\n",
       "      <th>condicao_metereologica</th>\n",
       "      <th>mortos</th>\n",
       "      <th>ilesos</th>\n",
       "      <th>feridos</th>\n",
       "    </tr>\n",
       "  </thead>\n",
       "  <tbody>\n",
       "    <tr>\n",
       "      <th>167</th>\n",
       "      <td>07/05/2008</td>\n",
       "      <td>Quarta</td>\n",
       "      <td>174</td>\n",
       "      <td>2</td>\n",
       "      <td>Velocidade incompatível</td>\n",
       "      <td>Colisão frontal</td>\n",
       "      <td>Pleno dia</td>\n",
       "      <td>Chuva</td>\n",
       "      <td>3</td>\n",
       "      <td>2</td>\n",
       "      <td>14</td>\n",
       "    </tr>\n",
       "  </tbody>\n",
       "</table>\n",
       "</div>"
      ],
      "text/plain": [
       "    data_inversa dia_semana   br km           causa_acidente    tipo_acidente  \\\n",
       "167   07/05/2008     Quarta  174  2  Velocidade incompatível  Colisão frontal   \n",
       "\n",
       "      fase_dia condicao_metereologica  mortos  ilesos  feridos  \n",
       "167  Pleno dia                  Chuva       3       2       14  "
      ]
     },
     "execution_count": 106,
     "metadata": {},
     "output_type": "execute_result"
    }
   ],
   "source": [
    "df_manaus[df_manaus.feridos == 14]"
   ]
  },
  {
   "cell_type": "code",
   "execution_count": null,
   "metadata": {},
   "outputs": [],
   "source": []
  },
  {
   "cell_type": "code",
   "execution_count": null,
   "metadata": {},
   "outputs": [],
   "source": []
  },
  {
   "cell_type": "code",
   "execution_count": null,
   "metadata": {},
   "outputs": [],
   "source": []
  },
  {
   "cell_type": "code",
   "execution_count": null,
   "metadata": {},
   "outputs": [],
   "source": []
  },
  {
   "cell_type": "code",
   "execution_count": null,
   "metadata": {},
   "outputs": [],
   "source": []
  },
  {
   "cell_type": "code",
   "execution_count": null,
   "metadata": {},
   "outputs": [],
   "source": []
  },
  {
   "cell_type": "code",
   "execution_count": null,
   "metadata": {},
   "outputs": [],
   "source": []
  },
  {
   "cell_type": "code",
   "execution_count": null,
   "metadata": {},
   "outputs": [],
   "source": []
  },
  {
   "cell_type": "code",
   "execution_count": null,
   "metadata": {},
   "outputs": [],
   "source": []
  }
 ],
 "metadata": {
  "kernelspec": {
   "display_name": "Python 3",
   "language": "python",
   "name": "python3"
  },
  "language_info": {
   "codemirror_mode": {
    "name": "ipython",
    "version": 3
   },
   "file_extension": ".py",
   "mimetype": "text/x-python",
   "name": "python",
   "nbconvert_exporter": "python",
   "pygments_lexer": "ipython3",
   "version": "3.8.3"
  }
 },
 "nbformat": 4,
 "nbformat_minor": 4
}
